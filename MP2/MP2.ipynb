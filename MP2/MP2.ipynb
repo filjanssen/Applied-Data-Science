{
 "cells": [
  {
   "cell_type": "code",
   "execution_count": 133,
   "metadata": {},
   "outputs": [],
   "source": [
    "#Rane Gillian R. Villanueva\n",
    "#2018101140\n",
    "\n",
    "import pandas as pd\n",
    "\n",
    "#importing csv file\n",
    "data = pd.read_csv('class_grades.csv')\n",
    "#print(data)\n",
    "\n",
    "#getting row with index of 4\n",
    "data = data.iloc[5]\n",
    "#print(data)"
   ]
  },
  {
   "cell_type": "code",
   "execution_count": 134,
   "metadata": {},
   "outputs": [],
   "source": [
    "#convertion of pandas dataframe to numpy array\n",
    "arr1 = data.to_numpy()[1:6]\n",
    "arr = arr1.astype(np.float64)\n",
    "\n",
    "name = data.to_numpy()[0]\n",
    "\n",
    "#print(arr)"
   ]
  },
  {
   "cell_type": "code",
   "execution_count": 135,
   "metadata": {},
   "outputs": [],
   "source": [
    "import matplotlib.pyplot as plt\n",
    "%matplotlib inline\n",
    "\n",
    "x = [1,2,3,4,5]"
   ]
  },
  {
   "cell_type": "code",
   "execution_count": 136,
   "metadata": {},
   "outputs": [],
   "source": [
    "import numpy as np\n",
    "model = np.polyfit(x,arr,1)\n",
    "\n",
    "predict = np.poly1d(model)"
   ]
  },
  {
   "cell_type": "code",
   "execution_count": 137,
   "metadata": {},
   "outputs": [
    {
     "name": "stdout",
     "output_type": "stream",
     "text": [
      "Pearson coefficient = -0.04596385597769217\n"
     ]
    },
    {
     "data": {
      "image/png": "[encoded data removed]",
      "text/plain": [
       "<Figure size 432x288 with 1 Axes>"
      ]
     },
     "metadata": {
      "needs_background": "light"
     },
     "output_type": "display_data"
    }
   ],
   "source": [
    "x_lin_reg = range(1,6)\n",
    "y_lin_reg = predict(x_lin_reg) \n",
    "\n",
    "plt.scatter(x, arr, c='black')\n",
    "plt.plot(x_lin_reg, y_lin_reg, c='r')\n",
    "plt.ylim(1,5)\n",
    "plt.ylim(0,100)\n",
    "plt.title(name + \" \" + str(arr1))\n",
    "\n",
    "pc = np.corrcoef(x, arr)[0, 1]\n",
    "print(\"Pearson coefficient = %s\" % str(pc))\n"
   ]
  }
 ],
 "metadata": {
  "kernelspec": {
   "display_name": "Python 3",
   "language": "python",
   "name": "python3"
  },
  "language_info": {
   "codemirror_mode": {
    "name": "ipython",
    "version": 3
   },
   "file_extension": ".py",
   "mimetype": "text/x-python",
   "name": "python",
   "nbconvert_exporter": "python",
   "pygments_lexer": "ipython3",
   "version": "3.7.6"
  }
 },
 "nbformat": 4,
 "nbformat_minor": 4
}
