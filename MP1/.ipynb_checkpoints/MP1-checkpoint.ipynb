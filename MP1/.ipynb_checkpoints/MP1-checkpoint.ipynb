{
 "cells": [
  {
   "cell_type": "code",
   "execution_count": null,
   "metadata": {},
   "outputs": [],
   "source": [
    "class tempConvert:\n",
    "    \n",
    "    def CtoF(self):\n",
    "        print(\"Enter temperature in Celsius: \")\n",
    "        F = value*(9/5)+32\n",
    "        return F\n",
    "    def FtoC(self):\n",
    "        print(\"Enter temperature in Fahrenheit: \")\n",
    "        C = (value-32)*5/9\n",
    "        return C\n",
    "    \n",
    "\n",
    "convert = tempConvert()\n",
    "choice = input(\"1 - Celsius to Fahrenheit\\n2 - Fahrenheit to Celsius\\nChoose an option:\")\n",
    "\n",
    "if choice == 1:\n",
    "    value = input(\"Enter value in Celsius\")\n",
    "    print(convert.CtoF(value))\n",
    "else:\n",
    "    value = input(\"Enter value in Fahreneheit\")\n",
    "    print(convert.FtoC(value))\n",
    "        "
   ]
  },
  {
   "cell_type": "code",
   "execution_count": null,
   "metadata": {},
   "outputs": [],
   "source": []
  }
 ],
 "metadata": {
  "kernelspec": {
   "display_name": "Python 3",
   "language": "python",
   "name": "python3"
  },
  "language_info": {
   "codemirror_mode": {
    "name": "ipython",
    "version": 3
   },
   "file_extension": ".py",
   "mimetype": "text/x-python",
   "name": "python",
   "nbconvert_exporter": "python",
   "pygments_lexer": "ipython3",
   "version": "3.7.0"
  }
 },
 "nbformat": 4,
 "nbformat_minor": 2
}
