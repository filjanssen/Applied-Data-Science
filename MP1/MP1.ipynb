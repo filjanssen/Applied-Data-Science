{
 "cells": [
  {
   "cell_type": "code",
   "execution_count": 4,
   "metadata": {},
   "outputs": [
    {
     "name": "stdout",
     "output_type": "stream",
     "text": [
      "1 - Celsius to Fahrenheit\n",
      "2 - Fahrenheit to Celsius\n",
      "Choose an option: 2\n",
      "Enter value in Fahreneheit: 128.28\n",
      "128.28°F is 53.48888888888889°C\n"
     ]
    }
   ],
   "source": [
    "'''\n",
    "Rane Gillian R. Villanueva\n",
    "2018101140\n",
    "Machine Problem 1\n",
    "'''\n",
    "\n",
    "def CtoF(value):\n",
    "    F = value*(9/5)+32\n",
    "    return str(value) + \"°C is \" + str(F) + \"°F\"\n",
    "def FtoC(value):\n",
    "    C = (value-32)*5/9\n",
    "    return str(value) + \"°F is \" + str(C) + \"°C\"\n",
    "\n",
    "choice = input(\"1 - Celsius to Fahrenheit\\n2 - Fahrenheit to Celsius\\nChoose an option: \")\n",
    "\n",
    "if int(choice) == 1:\n",
    "    value = input(\"Enter value in Celsius: \")\n",
    "    print(CtoF(float(value)))\n",
    "elif int(choice) == 2:\n",
    "    value = input(\"Enter value in Fahreneheit: \")\n",
    "    print(FtoC(float(value)))"
   ]
  },
  {
   "cell_type": "code",
   "execution_count": null,
   "metadata": {},
   "outputs": [],
   "source": []
  },
  {
   "cell_type": "code",
   "execution_count": null,
   "metadata": {},
   "outputs": [],
   "source": []
  }
 ],
 "metadata": {
  "kernelspec": {
   "display_name": "Python 3",
   "language": "python",
   "name": "python3"
  },
  "language_info": {
   "codemirror_mode": {
    "name": "ipython",
    "version": 3
   },
   "file_extension": ".py",
   "mimetype": "text/x-python",
   "name": "python",
   "nbconvert_exporter": "python",
   "pygments_lexer": "ipython3",
   "version": "3.7.0"
  }
 },
 "nbformat": 4,
 "nbformat_minor": 2
}
