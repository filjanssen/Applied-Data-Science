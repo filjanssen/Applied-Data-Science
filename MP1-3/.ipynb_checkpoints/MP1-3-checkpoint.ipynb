{
 "cells": [
  {
   "cell_type": "code",
   "execution_count": 4,
   "metadata": {
    "scrolled": true
   },
   "outputs": [
    {
     "name": "stdout",
     "output_type": "stream",
     "text": [
      "The square of first 30 numbers are: [0, 1, 4, 9, 16, 25, 36, 49, 64, 81, 100, 121, 144, 169, 196, 225, 256, 289, 324, 361, 400, 441, 484, 529, 576, 625, 676, 729, 784, 841, 900]\n"
     ]
    }
   ],
   "source": [
    "def fib(value):\n",
    "    sq = []\n",
    "    \n",
    "    for i in range(value+1):\n",
    "        current = i\n",
    "        sq.append(current**2)\n",
    "    \n",
    "    return sq\n",
    "\n",
    "print(\"The square of first 30 numbers are: \" + str(fib(30)))\n",
    "\n",
    "#Rane Gillian R. Villanueva\n",
    "#2018101140\n",
    "#Machine Problem 1-3"
   ]
  },
  {
   "cell_type": "code",
   "execution_count": null,
   "metadata": {},
   "outputs": [],
   "source": []
  }
 ],
 "metadata": {
  "kernelspec": {
   "display_name": "Python 3",
   "language": "python",
   "name": "python3"
  },
  "language_info": {
   "codemirror_mode": {
    "name": "ipython",
    "version": 3
   },
   "file_extension": ".py",
   "mimetype": "text/x-python",
   "name": "python",
   "nbconvert_exporter": "python",
   "pygments_lexer": "ipython3",
   "version": "3.7.0"
  }
 },
 "nbformat": 4,
 "nbformat_minor": 2
}
