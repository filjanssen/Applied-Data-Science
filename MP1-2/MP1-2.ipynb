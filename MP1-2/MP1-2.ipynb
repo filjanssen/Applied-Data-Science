{
 "cells": [
  {
   "cell_type": "code",
   "execution_count": 33,
   "metadata": {
    "scrolled": true
   },
   "outputs": [
    {
     "name": "stdout",
     "output_type": "stream",
     "text": [
      "The first 20 Fibonacci numbers are: [0, 1, 1, 2, 3, 5, 8, 13, 21, 34, 55, 89, 144, 233, 377, 610, 987, 1597, 2584, 4181]\n"
     ]
    }
   ],
   "source": [
    "def fib(value):\n",
    "    previous=0\n",
    "    result=0\n",
    "    current=1\n",
    "    ls = [previous, current]\n",
    "    \n",
    "    for i in range(value-2):\n",
    "        result = current + previous\n",
    "        previous = current\n",
    "        current = result\n",
    "        ls.append(result)\n",
    "    \n",
    "    return ls\n",
    "\n",
    "print(\"The first 20 Fibonacci numbers are: \" + str(fib(20)))\n",
    "\n",
    "#Rane Gillian R. Villanueva\n",
    "#2018101140\n",
    "#Machine Problem 1-2"
   ]
  },
  {
   "cell_type": "code",
   "execution_count": null,
   "metadata": {},
   "outputs": [],
   "source": []
  }
 ],
 "metadata": {
  "kernelspec": {
   "display_name": "Python 3",
   "language": "python",
   "name": "python3"
  },
  "language_info": {
   "codemirror_mode": {
    "name": "ipython",
    "version": 3
   },
   "file_extension": ".py",
   "mimetype": "text/x-python",
   "name": "python",
   "nbconvert_exporter": "python",
   "pygments_lexer": "ipython3",
   "version": "3.7.0"
  }
 },
 "nbformat": 4,
 "nbformat_minor": 2
}
